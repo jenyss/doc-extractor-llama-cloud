{
 "cells": [
  {
   "cell_type": "code",
   "execution_count": 1,
   "id": "18c4c5ae-83bc-4c7c-a24d-359e6f41c853",
   "metadata": {},
   "outputs": [],
   "source": [
    "import os\n",
    "import re\n",
    "import keyword\n",
    "import pandas as pd\n",
    "from pydantic import BaseModel, Field\n",
    "from helper import get_openai_api_key, get_llama_cloud_api_key_us\n",
    "from llama_cloud_services import ExtractionAgent, LlamaExtract"
   ]
  },
  {
   "cell_type": "code",
   "execution_count": 2,
   "id": "95da9f98-b355-4a0b-803d-5b26f9ffd5c0",
   "metadata": {},
   "outputs": [],
   "source": [
    "llama_cloud_api_key_us = get_llama_cloud_api_key_us()\n",
    "openai_api_key = get_openai_api_key()\n",
    "# print(llama_cloud_api_key_us)\n",
    "# print(openai_api_key)"
   ]
  },
  {
   "cell_type": "code",
   "execution_count": 4,
   "id": "cf707c13-6c15-49c7-a792-45f0a8d030cd",
   "metadata": {},
   "outputs": [],
   "source": [
    "def generate_schema_from_excel(excel_path: str):\n",
    "    # Read the first sheet\n",
    "    df = pd.read_excel(excel_path, usecols=\"A:C\", header=None)\n",
    "    df.columns = [\"field_name\", \"description\", \"field_type\"]\n",
    "\n",
    "    # Drop rows where field_name is null\n",
    "    df = df.dropna(subset=[\"field_name\"])\n",
    "\n",
    "    # Sanitize field names by removing spaces\n",
    "    def sanitize_field_name(name):\n",
    "        name = str(name).strip()\n",
    "        name = re.sub(r'\\W|^(?=\\d)', '_', name)\n",
    "        if keyword.iskeyword(name) or name == \"\":\n",
    "            name = f\"field_{name}\"\n",
    "        return name.lower()\n",
    "\n",
    "    # Generate class definition for ProductCatalogueRow\n",
    "    row_fields = \"\"\n",
    "    for _, row in df.iterrows():\n",
    "        raw_field_name = row['field_name']\n",
    "        field_name = sanitize_field_name(raw_field_name)\n",
    "        description = str(row['description']) if pd.notnull(row['description']) else \"\"\n",
    "        field_type = str(row['field_type']).strip() if pd.notnull(row['field_type']) else \"str\"\n",
    "        row_fields += f\"    {field_name}: {field_type} = Field(description=\\\"{description}\\\")\\n\"\n",
    "\n",
    "    schema_code = f\"\"\"\n",
    "from pydantic import BaseModel, Field\n",
    "\n",
    "class ProductCatalogueRow(BaseModel):\n",
    "{row_fields}\n",
    "\n",
    "class ProductCatalogue(BaseModel):\n",
    "    rows: list[ProductCatalogueRow] = Field(description=\"A list of product price list entries\")\n",
    "\"\"\"\n",
    "    \n",
    "    exec(schema_code, globals())\n",
    "    \n",
    "    print(schema_code)\n",
    "    return ProductCatalogue"
   ]
  },
  {
   "cell_type": "code",
   "execution_count": 11,
   "id": "eb988703-290a-4f6f-9340-f4df196c79b5",
   "metadata": {},
   "outputs": [],
   "source": [
    "from llama_cloud.types.extract_config import ExtractConfig\n",
    "\n",
    "def extract_data_from_pdf(pdf_path: str, schema):\n",
    "    extractor = LlamaExtract()\n",
    "    config = ExtractConfig(extraction_mode=\"ACCURATE\")\n",
    "\n",
    "    agent = extractor.create_agent(\n",
    "        name=\"idea\",\n",
    "        data_schema=schema,\n",
    "        config=config\n",
    "    )\n",
    "\n",
    "    result = agent.extract(pdf_path)\n",
    "    extractor.delete_agent(agent.id)\n",
    "    return result"
   ]
  },
  {
   "cell_type": "code",
   "execution_count": 13,
   "id": "0f4bc759-48d6-4b22-916a-6354a929b22b",
   "metadata": {},
   "outputs": [],
   "source": [
    "import json\n",
    "\n",
    "def print_and_save_json(result, output_file=\"extracted_data.json\"):\n",
    "    # Print the JSON result\n",
    "    print(json.dumps(result.data, indent=4, ensure_ascii=False))\n",
    "    \n",
    "    # Define the file path to store the JSON (if you want)\n",
    "    output_file = \"extracted_data.json\"\n",
    "    \n",
    "    # Write the JSON result to `extracted_data.json` file\n",
    "    with open(output_file, \"w\", encoding=\"utf-8\") as f:\n",
    "        json.dump(result.data, f, indent=4, ensure_ascii=False)\n",
    "    \n",
    "    print(f\"JSON saved successfully to {output_file}\")\n"
   ]
  },
  {
   "cell_type": "code",
   "execution_count": 14,
   "id": "6bc34e81-ed1a-4b83-a8db-c0d558352fcd",
   "metadata": {},
   "outputs": [],
   "source": [
    "def map_and_export_to_excel(result, mapping_excel_path: str, output_excel_path=\"import_template.xlsx\"):\n",
    "    mapping_df = pd.read_excel(mapping_excel_path, usecols=\"A,D,E\", header=None)\n",
    "    mapping_df.columns = [\"json_key\", \"default_value\", \"final_column\"]\n",
    "\n",
    "    # Clean whitespace and lowercase for matching\n",
    "    mapping_df[\"json_key\"] = mapping_df[\"json_key\"].astype(str).str.strip().str.lower()\n",
    "    mapping_df[\"final_column\"] = mapping_df[\"final_column\"].astype(str).str.strip()\n",
    "\n",
    "    # Drop mappings without a final column\n",
    "    mapping_df = mapping_df.dropna(subset=[\"final_column\"])\n",
    "\n",
    "    # Build lookup dictionaries\n",
    "    key_to_final_col = mapping_df.set_index(\"json_key\")[\"final_column\"].to_dict()\n",
    "    key_to_default = mapping_df.set_index(\"json_key\")[\"default_value\"].to_dict()\n",
    "\n",
    "    # Use in-memory JSON result.data\n",
    "    raw_json_rows = result.data.get(\"rows\", [])\n",
    "    json_rows = [{k.lower(): v for k, v in row.items()} for row in raw_json_rows]\n",
    "\n",
    "    # Prepare the output DataFrame \n",
    "    final_columns = mapping_df[\"final_column\"].unique().tolist()\n",
    "    output_df = pd.DataFrame(columns=final_columns)\n",
    "\n",
    "    # Fill the rows\n",
    "    for row in json_rows:\n",
    "        new_row = {}\n",
    "        for _, map_row in mapping_df.iterrows():\n",
    "            json_key = map_row[\"json_key\"]\n",
    "            final_col = map_row[\"final_column\"]\n",
    "            default_value = map_row[\"default_value\"]\n",
    "\n",
    "            if json_key and json_key in row:\n",
    "                value = row[json_key]\n",
    "            else:\n",
    "                value = default_value\n",
    "\n",
    "            new_row[final_col] = value\n",
    "\n",
    "        output_df.loc[len(output_df)] = new_row\n",
    "\n",
    "    # Save final output \n",
    "    output_df.to_excel(output_excel_path, index=False)\n",
    "    print(f\"{output_excel_path} created with {len(output_df)} rows.\")"
   ]
  },
  {
   "cell_type": "code",
   "execution_count": null,
   "id": "ed5299a5-3300-4ced-8841-2baf7f1e4440",
   "metadata": {},
   "outputs": [],
   "source": [
    "schema = generate_schema_from_excel(\"data/Mapping_Table.xlsx\")"
   ]
  },
  {
   "cell_type": "code",
   "execution_count": null,
   "id": "f63fd6a8-8d06-42e0-8c0c-9ae73ba40db6",
   "metadata": {},
   "outputs": [],
   "source": [
    "result = extract_data_from_pdf(\"data/CatalogueSept2024.pdf\", schema)"
   ]
  },
  {
   "cell_type": "code",
   "execution_count": null,
   "id": "0a7f234f-9d64-4938-af64-9023baa9862c",
   "metadata": {},
   "outputs": [],
   "source": [
    "# print_and_save_json(result, \"extracted_data.json\")"
   ]
  },
  {
   "cell_type": "code",
   "execution_count": null,
   "id": "a55e18a8-affd-4289-969a-2b0b2f74415c",
   "metadata": {},
   "outputs": [],
   "source": [
    "map_and_export_to_excel(result, \"data/Mapping_Table.xlsx\", \"import_template.xlsx\")"
   ]
  }
 ],
 "metadata": {
  "kernelspec": {
   "display_name": "Python 3.13 (venv)",
   "language": "python",
   "name": "jupyter-env"
  },
  "language_info": {
   "codemirror_mode": {
    "name": "ipython",
    "version": 3
   },
   "file_extension": ".py",
   "mimetype": "text/x-python",
   "name": "python",
   "nbconvert_exporter": "python",
   "pygments_lexer": "ipython3",
   "version": "3.13.2"
  }
 },
 "nbformat": 4,
 "nbformat_minor": 5
}
